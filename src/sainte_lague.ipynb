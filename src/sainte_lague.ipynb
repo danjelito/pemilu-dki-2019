{
 "cells": [
  {
   "cell_type": "code",
   "execution_count": 148,
   "metadata": {},
   "outputs": [],
   "source": [
    "import pandas as pd\n",
    "import numpy as np\n",
    "from pathlib import Path"
   ]
  },
  {
   "cell_type": "code",
   "execution_count": 149,
   "metadata": {},
   "outputs": [],
   "source": [
    "path = Path.cwd().parents[0] / \"output/vote_result.xlsx\"\n",
    "df = pd.read_excel(path)"
   ]
  },
  {
   "cell_type": "code",
   "execution_count": 147,
   "metadata": {},
   "outputs": [
    {
     "data": {
      "text/plain": [
       "[('PDIP', 'H. Prasetyo Edi Marsudi, S.H.'),\n",
       " ('PDIP', 'Pandapotan Sinaga, S.E., M.M.'),\n",
       " ('PKS', 'H. Dany Anwar'),\n",
       " ('PKS', 'H. Ismail, S.Pd.'),\n",
       " ('Gerindra', 'Iman Satria'),\n",
       " ('Gerindra', 'Dr. Dian Pratama, Sp.OG.'),\n",
       " ('PSI', 'Idris Ahmad, S.K.M.'),\n",
       " ('PSI', 'Johannes Martuah, S.T.'),\n",
       " ('PDIP', 'Wa Ode Herlina'),\n",
       " ('Demokrat', 'Desie Christhyana Sari'),\n",
       " ('Demokrat', 'Panji Purboyo'),\n",
       " ('PKS', 'Israyani, S.P.')]"
      ]
     },
     "execution_count": 147,
     "metadata": {},
     "output_type": "execute_result"
    }
   ],
   "source": [
    "def get_dapil_data(df: pd.DataFrame, dapil_no: int) -> (dict, pd.DataFrame):\n",
    "    # get full data of dapil\n",
    "    data = df.loc[df[\"dapil_no\"] == dapil_no]\n",
    "\n",
    "    # get partai vote per dapil\n",
    "    partai_vote = (\n",
    "        data.loc[:, [\"partai\", \"partai_vote\"]]\n",
    "        .drop_duplicates()\n",
    "        .set_index(\"partai\")\n",
    "        .to_dict()\n",
    "        .get(\"partai_vote\")\n",
    "    )\n",
    "\n",
    "    # get calon vote per dapil\n",
    "    calon_vote = (\n",
    "        data.loc[:, [\"partai\", \"nama\", \"vote\"]]\n",
    "        .sort_values([\"partai\", \"vote\"], ascending=False)\n",
    "        .assign(rank=lambda df_: df_.groupby(\"partai\").cumcount(ascending=True) + 1)\n",
    "    )\n",
    "\n",
    "    return partai_vote, calon_vote\n",
    "\n",
    "\n",
    "def return_odd_number(start_index=0):\n",
    "    number = start_index * 2 + 1\n",
    "    return number\n",
    "\n",
    "\n",
    "def get_element_count(input_list: list):\n",
    "    output_list = []\n",
    "    element_count = {}\n",
    "\n",
    "    for item in input_list:\n",
    "        if item not in element_count:\n",
    "            element_count[item] = 1\n",
    "        else:\n",
    "            element_count[item] += 1\n",
    "        output_list.append((item, element_count[item]))\n",
    "\n",
    "    return output_list\n",
    "\n",
    "\n",
    "def get_selected_partai(partai_vote: dict, num_selected: int, with_rank=False):\n",
    "    partai_vote_copy = partai_vote.copy()\n",
    "    selected_partai = []\n",
    "\n",
    "    for round in list(range(1, num_selected + 1)):\n",
    "        highest_voted = max(\n",
    "            partai_vote_copy, key=lambda k: partai_vote_copy[k]\n",
    "        )  # current highest voted partai\n",
    "        for partai, vote in partai_vote_copy.items():\n",
    "            times_selected = selected_partai.count(\n",
    "                partai\n",
    "            )  # how many times this partai been selected\n",
    "\n",
    "            if partai == highest_voted:\n",
    "                partai_vote_copy[partai] /= return_odd_number(\n",
    "                    start_index=times_selected\n",
    "                )  # divide by odd number\n",
    "                selected_partai.append(partai)\n",
    "    if with_rank:\n",
    "        return get_element_count(selected_partai)\n",
    "    return selected_partai\n",
    "\n",
    "\n",
    "def get_selected_calon(\n",
    "    calon_vote: pd.DataFrame, selected_partai: list, with_partai=False\n",
    "):\n",
    "    selected_calon = []\n",
    "    for partai, rank in selected_partai:\n",
    "        calon = calon_vote.loc[\n",
    "            (calon_vote[\"partai\"] == partai) & (calon_vote[\"rank\"] == rank), \"nama\"\n",
    "        ].values[0]\n",
    "        selected_calon.append(calon)\n",
    "\n",
    "    if with_partai:\n",
    "        partai = [p for p, r in selected_partai]\n",
    "        selected_calon = list(zip(partai, selected_calon))\n",
    "\n",
    "    return selected_calon\n",
    "\n",
    "\n",
    "partai_vote, calon_vote = get_dapil_data(df, 1) # specify dapil here\n",
    "selected_partai = get_selected_partai(partai_vote, 12, with_rank=True) # specify num selected\n",
    "selected_calon = get_selected_calon(calon_vote, selected_partai, with_partai=True)\n",
    "selected_calon"
   ]
  }
 ],
 "metadata": {
  "kernelspec": {
   "display_name": "data-science",
   "language": "python",
   "name": "python3"
  },
  "language_info": {
   "codemirror_mode": {
    "name": "ipython",
    "version": 3
   },
   "file_extension": ".py",
   "mimetype": "text/x-python",
   "name": "python",
   "nbconvert_exporter": "python",
   "pygments_lexer": "ipython3",
   "version": "3.10.11"
  },
  "orig_nbformat": 4
 },
 "nbformat": 4,
 "nbformat_minor": 2
}
