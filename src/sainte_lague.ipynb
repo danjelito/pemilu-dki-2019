{
 "cells": [
  {
   "cell_type": "code",
   "execution_count": 26,
   "metadata": {},
   "outputs": [],
   "source": [
    "import pandas as pd\n",
    "import numpy as np\n",
    "from pathlib import Path\n",
    "import module\n",
    "import importlib\n",
    "try:\n",
    "    importlib.reload(module) # reload module\n",
    "except NameError:\n",
    "    pass"
   ]
  },
  {
   "cell_type": "code",
   "execution_count": 27,
   "metadata": {},
   "outputs": [],
   "source": [
    "path = Path.cwd().parents[0] / \"output/vote_result.xlsx\"\n",
    "df = pd.read_excel(path)"
   ]
  },
  {
   "cell_type": "code",
   "execution_count": 31,
   "metadata": {},
   "outputs": [
    {
     "data": {
      "text/plain": [
       "[('A', 1),\n",
       " ('B', 1),\n",
       " ('C', 1),\n",
       " ('A', 2),\n",
       " ('B', 2),\n",
       " ('A', 3),\n",
       " ('C', 2),\n",
       " ('B', 3),\n",
       " ('D', 1),\n",
       " ('A', 4)]"
      ]
     },
     "execution_count": 31,
     "metadata": {},
     "output_type": "execute_result"
    }
   ],
   "source": [
    "partai_vote_sample = {\n",
    "    \"A\": 100_000, \n",
    "    \"B\": 80_000, \n",
    "    \"C\": 50_000, \n",
    "    \"D\": 15_000, \n",
    "    \"E\": 2_000, \n",
    "}\n",
    "result = module.get_selected_partai(partai_vote_sample, \n",
    "                                    num_selected=8, \n",
    "                                    num_almost_selected=2, \n",
    "                                    with_rank=True)\n",
    "result"
   ]
  },
  {
   "cell_type": "code",
   "execution_count": 32,
   "metadata": {},
   "outputs": [
    {
     "name": "stdout",
     "output_type": "stream",
     "text": [
      "[('Demokrat', 'Desie Christhyana Sari'), ('Gerindra', 'Iman Satria'), ('Gerindra', 'Dr. Dian Pratama, Sp.OG.'), ('Golkar', 'Basri Baco, S.E., M.M.'), ('Nasdem', 'M. Hariadi Anwar'), ('PAN', 'Riano P. Ahmad'), ('PDIP', 'H. Prasetyo Edi Marsudi, S.H.'), ('PDIP', 'Pandapotan Sinaga, S.E., M.M.'), ('PDIP', 'Wa Ode Herlina'), ('PKS', 'H. Dany Anwar'), ('PKS', 'H. Ismail, S.Pd.'), ('PSI', 'Idris Ahmad, S.K.M.')]\n",
      "[('Demokrat', 'Hj. Neneng Hasanah, S.IP., M.M.'), ('Gerindra', 'S. Andyka'), ('Golkar', 'Dimaz Raditya'), ('Nasdem', 'H. Muhammad Idris, S.E.'), ('PAN', 'Oman Rohman Rakinda, S.IP., M.Si.'), ('PDIP', 'Agustina H. (Tina Toon)'), ('PDIP', 'Jhonny Simanjuntak, S.H.'), ('PKS', 'H. Moh. Arifin'), ('PSI', 'Anthony Winza Probow, S.H., L.L.M.')]\n",
      "[('Demokrat', 'Faisal'), ('Gerindra', 'Moh Taufik'), ('Nasdem', 'H. Hasan Basri Umar, S.H., M.Si.'), ('PDIP', 'Hj. Ida Mahmudah'), ('PDIP', 'Steven Setia Budi Musa'), ('PDIP', 'Gani Suwondo Lie, S.H., M.H.'), ('PKB', 'H. Jamaluddin Lamanda, S.H., M.H.'), ('PKS', 'Hj. Yusriah Dzinnun, S.Pd.'), ('PSI', 'Viani Limardi, S.H.')]\n",
      "[('Demokrat', 'Mayjen TNI (Purn) H. Ferrial Sofyan'), ('Gerindra', 'Drs. H. Prabowo Soenirman, Ak., M.M.'), ('Gerindra', 'H. Zuhdi Mamduhi'), ('Golkar', 'Judistira Hermawan'), ('PAN', 'Syahroni'), ('PDIP', 'Dwi Rio Sambodo, S.E., M.M.'), ('PDIP', 'Dr. dr. Gilbert Simanjuntak, Sp.M.'), ('PKB', 'H. Hasbiallah Ilyas'), ('PKS', 'Drs. H. M. Taufik Zoelkifli, M.M.'), ('PKS', 'H. Muhayar R.M.')]\n",
      "[('Demokrat', 'Mujiyono'), ('Gerindra', 'Adi Kurnia Setiadi, S.H., M.H.'), ('Gerindra', 'Thopaz Nuhgraha Syamsul'), ('Golkar', 'H. Taufik Azhar, M.Si.'), ('PAN', 'Zita Anjani, S.Sos., M.Sc.'), ('PDIP', 'Dr. Drs. H.E. Syahrial, M.M.'), ('PDIP', 'Pantas Nainggolan, S.H., M.M.'), ('PKS', 'H. Abdurrahman Suhaimi, Lc. M.A.'), ('PKS', 'H. Nasdiyanto'), ('PSI', 'Justin Adrian, S.H., M.H.')]\n",
      "[('Demokrat', 'H. Misan Samsuri'), ('Gerindra', 'Syarif'), ('Gerindra', 'Ichwanul Muslimin'), ('Golkar', 'Jamaludin'), ('PAN', 'Bambang Kusumanto'), ('PDIP', 'Dr. Ir. H. Rasyidi H. Y., M.M., C.P.A., M.A.'), ('PDIP', 'Ir. Manuara Siahaan'), ('PKS', 'Hj. Umi Kulsum'), ('PKS', 'Drs. K.H. Muhammad Thamrin'), ('PPP', 'Matnoor Tindoan, S.H.')]\n",
      "[('Demokrat', 'Ali Muhammad Johan C.'), ('Gerindra', 'Drs. H. Abdul Ghoni'), ('Gerindra', 'Esti Arimi Putri'), ('Nasdem', 'Wibi Andrino, S.H., M.H.'), ('PAN', 'Farazandi Fidinansyah, S.E., M.Sc.'), ('PDIP', 'Gembong Warsono, S.I.P., M.M.'), ('PDIP', 'Hj. Indrawati Dewi'), ('PKB', 'Sutikno'), ('PKS', 'Drs. H. Khoirudin, M.Si'), ('PSI', 'Anggara Wicitra Sastroamidjojo')]\n",
      "[('Demokrat', 'Drs. H. Achmad Nawawi, S.H., M.Si.'), ('Gerindra', 'H. Purwanto, S.H.'), ('Gerindra', 'Ir. H. Wahyu Dewanto, S.H., M.H.'), ('Gerindra', 'Nurhasan, S.E.'), ('Nasdem', 'Nova Harivan Paloh, S.E., M.M.'), ('PAN', 'Habib Muhammad Bin Salim Alatas'), ('PDIP', 'Panji Virgianto S S, S.I.Kom,. S.I.P.'), ('PDIP', 'Yuke Yurike, S.T., M.M'), ('PKB', 'Yusuf, S.I.Kom'), ('PKS', 'H. Achmad Yani, S.I.P., M.Pd.'), ('PKS', 'Dedi Supriadi, S.I.Kom.'), ('PSI', 'August Hamonangan, S.H., M.H.')]\n",
      "[('Demokrat', 'Nur Afni Sajim, S.E.'), ('Gerindra', 'Inggard Joshua, S.E.'), ('Gerindra', 'Hj. Rany Mauliani'), ('Golkar', 'H.R. Khotibi Achyar, S.I.P.'), ('Nasdem', 'Abdul Aziz Muslim'), ('PAN', 'H. Lukmannul Hakim, S.E.'), ('PDIP', 'Lauw Siegvrieda'), ('PDIP', 'Hj. Cinta Mega, S.H.'), ('PDIP', 'Ong Yenny'), ('PKB', 'H. Ahmad Ruslan, S.H.'), ('PKS', 'Hj. Solikhah, S.Sos.I.'), ('PSI', 'William Aditya Sarana')]\n",
      "[('Demokrat', 'Wita Susilowaty, S.I.Kom., M.Kom.'), ('Gerindra', 'Yudha Permana'), ('Gerindra', 'Syarifudin'), ('Nasdem', 'Jupiter'), ('PAN', 'Guruh Tirta Lunggana'), ('PDIP', 'Ima Mahdiah'), ('PDIP', 'Merry Hotma, S.H.'), ('PDIP', 'Hardiyanto Kenneth, S.H., M.H., M.Si.'), ('PDIP', 'dr. Stephanie Octavia'), ('PKS', 'Drs. H. Nasrullah, M.E.'), ('PKS', 'Ir. Abdul Aziz, S.Si.'), ('PSI', 'Eneng Malianasari, S.Sos.')]\n"
     ]
    }
   ],
   "source": [
    "for no in list(range(1, 11)):\n",
    "\n",
    "    dapil_no = no\n",
    "    num_calon_selected = df.loc[df[\"dapil_no\"] == dapil_no, 'terpilih'].sum()\n",
    "    num_calon_almost_selected = 10\n",
    "\n",
    "    partai_vote, calon_vote = module.get_dapil_data(df, dapil_no) \n",
    "    selected_partai = module.get_selected_partai(partai_vote, num_calon_selected, with_rank=True) \n",
    "    selected_calon = module.get_selected_calon(calon_vote, selected_partai, with_partai=True)\n",
    "    module.verify_if_selected(df, selected_calon, dapil_no)\n",
    "\n",
    "    selected_calon.sort(key=lambda x: x[0])\n",
    "    print(selected_calon)"
   ]
  }
 ],
 "metadata": {
  "kernelspec": {
   "display_name": "data-science",
   "language": "python",
   "name": "python3"
  },
  "language_info": {
   "codemirror_mode": {
    "name": "ipython",
    "version": 3
   },
   "file_extension": ".py",
   "mimetype": "text/x-python",
   "name": "python",
   "nbconvert_exporter": "python",
   "pygments_lexer": "ipython3",
   "version": "3.10.13"
  },
  "orig_nbformat": 4
 },
 "nbformat": 4,
 "nbformat_minor": 2
}
