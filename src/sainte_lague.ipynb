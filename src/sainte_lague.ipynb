{
 "cells": [
  {
   "cell_type": "code",
   "execution_count": 9,
   "metadata": {},
   "outputs": [],
   "source": [
    "import pandas as pd\n",
    "import numpy as np\n",
    "from pathlib import Path\n",
    "import module\n",
    "import importlib\n",
    "try:\n",
    "    importlib.reload(module) # reload module\n",
    "except NameError:\n",
    "    pass"
   ]
  },
  {
   "cell_type": "code",
   "execution_count": 10,
   "metadata": {},
   "outputs": [],
   "source": [
    "path = Path.cwd().parents[0] / \"output/vote_result.xlsx\"\n",
    "df = pd.read_excel(path)"
   ]
  },
  {
   "cell_type": "code",
   "execution_count": 11,
   "metadata": {},
   "outputs": [
    {
     "data": {
      "text/plain": [
       "[('A', 1),\n",
       " ('B', 1),\n",
       " ('C', 1),\n",
       " ('A', 2),\n",
       " ('B', 2),\n",
       " ('A', 3),\n",
       " ('C', 2),\n",
       " ('B', 3),\n",
       " ('D', 1),\n",
       " ('A', 4)]"
      ]
     },
     "execution_count": 11,
     "metadata": {},
     "output_type": "execute_result"
    }
   ],
   "source": [
    "partai_vote_sample = {\n",
    "    \"A\": 100_000, \n",
    "    \"B\": 80_000, \n",
    "    \"C\": 50_000, \n",
    "    \"D\": 15_000, \n",
    "    \"E\": 2_000, \n",
    "}\n",
    "result = module.get_selected_partai(partai_vote_sample, \n",
    "                                    num_selected=8, \n",
    "                                    num_almost_selected=2, \n",
    "                                    with_rank=True)\n",
    "result"
   ]
  },
  {
   "cell_type": "code",
   "execution_count": 12,
   "metadata": {},
   "outputs": [
    {
     "name": "stdout",
     "output_type": "stream",
     "text": [
      "[('Demokrat', 'Desie Christhyana Sari'), ('Gerindra', 'Iman Satria'), ('Gerindra', 'Dr. Dian Pratama, Sp.OG.'), ('Gerindra', 'H. Nuchbatillah, S.H.'), ('Gerindra', 'H. Fajar Sidik'), ('Golkar', 'Basri Baco, S.E., M.M.'), ('Golkar', 'Fitri Aprinasari Utami, S.E.'), ('Nasdem', 'M. Hariadi Anwar'), ('PAN', 'Riano P. Ahmad'), ('PDIP', 'H. Prasetyo Edi Marsudi, S.H.'), ('PDIP', 'Pandapotan Sinaga, S.E., M.M.'), ('PDIP', 'Wa Ode Herlina'), ('PDIP', 'Slamet Riyadi'), ('PDIP', 'Ellyzabeth CH. Mailoa'), ('PKB', 'H. Mualif, S. Pd.'), ('PKS', 'H. Dany Anwar'), ('PKS', 'H. Ismail, S.Pd.'), ('PKS', 'Israyani, S.P.'), ('PKS', 'H. Agus S.P. Otto, S.H., M.H.'), ('PSI', 'Idris Ahmad, S.K.M.'), ('PSI', 'Johannes Martuah, S.T.'), ('Perindo', 'Pahala Tua Sianturi')]\n",
      "[('Demokrat', 'Hj. Neneng Hasanah, S.IP., M.M.'), ('Gerindra', 'S. Andyka'), ('Gerindra', 'M. Iqba Maulana'), ('Gerindra', 'Saefudin'), ('Golkar', 'Dimaz Raditya'), ('Nasdem', 'H. Muhammad Idris, S.E.'), ('Nasdem', 'Capt. H. Subandi'), ('PAN', 'Oman Rohman Rakinda, S.IP., M.Si.'), ('PDIP', 'Agustina H. (Tina Toon)'), ('PDIP', 'Jhonny Simanjuntak, S.H.'), ('PDIP', 'Tubagus Hiqmat Syah, S.T.P.'), ('PDIP', 'Meity Magdalena Ussu, S.E., M.B.A.'), ('PDIP', 'Irwan Setiadi. S.I.P., M.I.P.'), ('PKB', 'Adnan Mubarak, S.H.'), ('PKS', 'H. Moh. Arifin'), ('PKS', 'Suhud Alynudin, S.I.P., M.Sc.'), ('PKS', 'Fatihah Ekawati, S.Si.'), ('PSI', 'Anthony Winza Probow, S.H., L.L.M.'), ('Perindo', 'Leonard Lolurapaja Tobing')]\n",
      "[('Demokrat', 'Faisal'), ('Gerindra', 'Moh Taufik'), ('Gerindra', 'Bastian P. Simanjuntak, A.Md.'), ('Gerindra', 'Rita Roma Mulia, A.Md.Ak'), ('Golkar', 'Rob Clinton Kardinal, S.E.'), ('Nasdem', 'H. Hasan Basri Umar, S.H., M.Si.'), ('PAN', 'H. Samsudin'), ('PDIP', 'Hj. Ida Mahmudah'), ('PDIP', 'Steven Setia Budi Musa'), ('PDIP', 'Gani Suwondo Lie, S.H., M.H.'), ('PDIP', 'Boyke Hasiholan S.'), ('PDIP', 'Dyah Primastuti'), ('PDIP', 'Mahtumi Syah, S.E.'), ('PKB', 'H. Jamaluddin Lamanda, S.H., M.H.'), ('PKS', 'Hj. Yusriah Dzinnun, S.Pd.'), ('PKS', 'Ahmad Mardono, S.M.I'), ('PSI', 'Viani Limardi, S.H.'), ('PSI', 'Cornelis Hotman'), ('Perindo', 'Drs. Sahrianta Tarigan')]\n",
      "[('Berkarya', 'M. Yoridho A. Sinuraya'), ('Demokrat', 'Mayjen TNI (Purn) H. Ferrial Sofyan'), ('Gerindra', 'Drs. H. Prabowo Soenirman, Ak., M.M.'), ('Gerindra', 'H. Zuhdi Mamduhi'), ('Gerindra', 'Adnani Taufiq, S.Sos.'), ('Golkar', 'Judistira Hermawan'), ('Hanura', 'Mohamad Sangaji, S.H.'), ('Nasdem', 'Ir. James Arifin Sianipar, M.M.'), ('PAN', 'Syahroni'), ('PDIP', 'Dwi Rio Sambodo, S.E., M.M.'), ('PDIP', 'Dr. dr. Gilbert Simanjuntak, Sp.M.'), ('PDIP', 'S. Maeda Yoppy Nababan'), ('PKB', 'H. Hasbiallah Ilyas'), ('PKB', 'Sudirman'), ('PKS', 'Drs. H. M. Taufik Zoelkifli, M.M.'), ('PKS', 'H. Muhayar R.M.'), ('PKS', 'K.H. Ali Fikri Noor, Lc., M.A.'), ('PPP', 'Hj. Nina Lubena'), ('PSI', 'Josephine Simanjuntak'), ('Perindo', 'Berman Nainggolan, S.H., M.H.')]\n",
      "[('Demokrat', 'Mujiyono'), ('Gerindra', 'Adi Kurnia Setiadi, S.H., M.H.'), ('Gerindra', 'Thopaz Nuhgraha Syamsul'), ('Gerindra', 'Mohamad Aly Shobat'), ('Golkar', 'H. Taufik Azhar, M.Si.'), ('Nasdem', 'H. Luqmanul Hakim, S.H.'), ('PAN', 'Zita Anjani, S.Sos., M.Sc.'), ('PAN', 'Basofi, S.Ag.'), ('PDIP', 'Dr. Drs. H.E. Syahrial, M.M.'), ('PDIP', 'Pantas Nainggolan, S.H., M.M.'), ('PDIP', 'H. Yohan Ardianto, S.E.'), ('PDIP', 'Wilson Panjaitan, S.E.'), ('PKB', 'Abdul Gani, S.E.'), ('PKS', 'H. Abdurrahman Suhaimi, Lc. M.A.'), ('PKS', 'H. Nasdiyanto'), ('PKS', 'Sri Vira Chandra D.'), ('PKS', 'Sugiyanti, S.Sos.I.'), ('PPP', 'Belly Bilalusalam, S.H.'), ('PSI', 'Justin Adrian, S.H., M.H.'), ('Perindo', 'Drs. Martuaraja Silalahi, M.Si.')]\n",
      "[('Demokrat', 'H. Misan Samsuri'), ('Gerindra', 'Syarif'), ('Gerindra', 'Ichwanul Muslimin'), ('Gerindra', 'Dwi Ratna, S.E., M.M.'), ('Golkar', 'Jamaludin'), ('Hanura', 'Dr. Muhammad Guntur, S.E., M.M.'), ('Nasdem', 'Panel Barus'), ('PAN', 'Bambang Kusumanto'), ('PDIP', 'Dr. Ir. H. Rasyidi H. Y., M.M., C.P.A., M.A.'), ('PDIP', 'Ir. Manuara Siahaan'), ('PDIP', 'Dr. Jojor Lamsihar Manulu, S.Si., M.T.'), ('PDIP', 'Junjungan Sinaga'), ('PKB', 'Mohammad Fauzi, S.Sos. I.'), ('PKS', 'Hj. Umi Kulsum'), ('PKS', 'Drs. K.H. Muhammad Thamrin'), ('PKS', 'H. Karyatin Subiyantoro'), ('PKS', 'Dian Purwita Handayani'), ('PPP', 'Matnoor Tindoan, S.H.'), ('PSI', 'Leonardus Herjuno Perwiro, S.E.'), ('Perindo', 'Alfiah, S.Pd.')]\n",
      "[('Demokrat', 'Ali Muhammad Johan C.'), ('Gerindra', 'Drs. H. Abdul Ghoni'), ('Gerindra', 'Esti Arimi Putri'), ('Gerindra', 'Nuraina'), ('Gerindra', 'Vivi Effendy'), ('Golkar', 'H. M. Ashraf Ali, B.Ac., S.H.'), ('Nasdem', 'Wibi Andrino, S.H., M.H.'), ('PAN', 'Farazandi Fidinansyah, S.E., M.Sc.'), ('PDIP', 'Gembong Warsono, S.I.P., M.M.'), ('PDIP', 'Hj. Indrawati Dewi'), ('PDIP', 'Simon A.M. Sitorus, S.I.P.'), ('PDIP', 'Regina Vianney Ayudya'), ('PKB', 'Sutikno'), ('PKS', 'Drs. H. Khoirudin, M.Si'), ('PKS', 'H. Umar'), ('PKS', 'Hj. Asmara Dewi, S.Sos. I.'), ('PPP', 'H. Ichwan Zayadi, S.E.'), ('PSI', 'Anggara Wicitra Sastroamidjojo'), ('PSI', 'Kristian Thomas, S.E., Ak.'), ('Perindo', 'Effendi Syahputra')]\n",
      "[('Demokrat', 'Drs. H. Achmad Nawawi, S.H., M.Si.'), ('Gerindra', 'H. Purwanto, S.H.'), ('Gerindra', 'Ir. H. Wahyu Dewanto, S.H., M.H.'), ('Gerindra', 'Nurhasan, S.E.'), ('Gerindra', 'Seppalga Ahmad'), ('Gerindra', 'Bhinneka Putra Linanta, S.H.'), ('Golkar', 'H. Zainuddin M.H., S.E.'), ('Nasdem', 'Nova Harivan Paloh, S.E., M.M.'), ('PAN', 'Habib Muhammad Bin Salim Alatas'), ('PAN', 'Muhammad Edwin Halim'), ('PDIP', 'Panji Virgianto S S, S.I.Kom,. S.I.P.'), ('PDIP', 'Yuke Yurike, S.T., M.M'), ('PDIP', 'Sereida Tambunan S.I.P'), ('PDIP', 'Anis Alamsyah'), ('PKB', 'Yusuf, S.I.Kom'), ('PKS', 'H. Achmad Yani, S.I.P., M.Pd.'), ('PKS', 'Dedi Supriadi, S.I.Kom.'), ('PKS', 'H. Madani B.H. Madali, S.Sos, M.Si.'), ('PKS', 'H. Agung Eddy Santoso'), ('PPP', 'H. Saiful Rachmat Dasuki, S.I.P., M.Si.'), ('PSI', 'August Hamonangan, S.H., M.H.'), ('Perindo', 'Syarief Hidayatulloh')]\n",
      "[('Demokrat', 'Nur Afni Sajim, S.E.'), ('Demokrat', 'H. Abdul Hakim Mufid'), ('Gerindra', 'Inggard Joshua, S.E.'), ('Gerindra', 'Hj. Rany Mauliani'), ('Gerindra', 'Gias Kumari Putra'), ('Golkar', 'H.R. Khotibi Achyar, S.I.P.'), ('Nasdem', 'Abdul Aziz Muslim'), ('PAN', 'H. Lukmannul Hakim, S.E.'), ('PAN', 'Tony Akbar Hasibuan, S.H., M.H.'), ('PDIP', 'Lauw Siegvrieda'), ('PDIP', 'Hj. Cinta Mega, S.H.'), ('PDIP', 'Ong Yenny'), ('PDIP', 'Ir. Sunggul Sirait'), ('PDIP', 'H. RMG. Bimo Hastoro, S.I.P.'), ('PDIP', 'Doddy Akhmadsyah Matondang'), ('PKB', 'H. Ahmad Ruslan, S.H.'), ('PKS', 'Hj. Solikhah, S.Sos.I.'), ('PKS', 'Ir. H. Kartawinata'), ('PPP', 'H. Abdul Aziz, S.E.'), ('PSI', 'William Aditya Sarana'), ('PSI', 'Bun Joi Phiau'), ('Perindo', 'H. Dina Masyusi, S.H.')]\n",
      "[('Demokrat', 'Wita Susilowaty, S.I.Kom., M.Kom.'), ('Demokrat', 'H. Muhamad Hasan, S.E., M.M.'), ('Gerindra', 'Yudha Permana'), ('Gerindra', 'Syarifudin'), ('Gerindra', 'Mohamad Haerulloh'), ('Golkar', 'H. Fathi Bin H. Rahmatullah'), ('Nasdem', 'Jupiter'), ('PAN', 'Guruh Tirta Lunggana'), ('PDIP', 'Ima Mahdiah'), ('PDIP', 'Merry Hotma, S.H.'), ('PDIP', 'Hardiyanto Kenneth, S.H., M.H., M.Si.'), ('PDIP', 'dr. Stephanie Octavia'), ('PDIP', 'Ahmad Tawakkal Ramadhan'), ('PDIP', 'H. Petra Lumbun, S.H., M.M.'), ('PDIP', 'Januarius Iljas Purwanto, S.H.'), ('PKB', 'H. M.Anas Efendi, S.H.'), ('PKS', 'Drs. H. Nasrullah, M.E.'), ('PKS', 'Ir. Abdul Aziz, S.Si.'), ('PKS', 'Buya Abdul Majid, S.E.'), ('PSI', 'Eneng Malianasari, S.Sos.'), ('PSI', 'dr. Kuswandi Gunawan, S.Psi.'), ('Perindo', 'H. Ramdan Alamsyah, S.H.')]\n"
     ]
    }
   ],
   "source": [
    "for no in list(range(1, 11)):\n",
    "\n",
    "    dapil_no = no\n",
    "    num_calon_selected = df.loc[df[\"dapil_no\"] == dapil_no, 'terpilih'].sum()\n",
    "    num_calon_almost_selected = 10\n",
    "\n",
    "    partai_vote, calon_vote = module.get_dapil_data(df, dapil_no) \n",
    "    selected_partai = module.get_selected_partai(partai_vote, num_calon_selected, num_calon_almost_selected, with_rank=True) \n",
    "    selected_calon = module.get_selected_calon(calon_vote, selected_partai, with_partai=True)\n",
    "    # module.verify_if_selected(df, selected_calon, dapil_no)\n",
    "\n",
    "    selected_calon.sort(key=lambda x: x[0])\n",
    "    print(selected_calon)"
   ]
  },
  {
   "cell_type": "code",
   "execution_count": 13,
   "metadata": {},
   "outputs": [
    {
     "data": {
      "text/html": [
       "<div>\n",
       "<style scoped>\n",
       "    .dataframe tbody tr th:only-of-type {\n",
       "        vertical-align: middle;\n",
       "    }\n",
       "\n",
       "    .dataframe tbody tr th {\n",
       "        vertical-align: top;\n",
       "    }\n",
       "\n",
       "    .dataframe thead th {\n",
       "        text-align: right;\n",
       "    }\n",
       "</style>\n",
       "<table border=\"1\" class=\"dataframe\">\n",
       "  <thead>\n",
       "    <tr style=\"text-align: right;\">\n",
       "      <th></th>\n",
       "      <th>dapil_no</th>\n",
       "      <th>dapil_nama</th>\n",
       "    </tr>\n",
       "  </thead>\n",
       "  <tbody>\n",
       "    <tr>\n",
       "      <th>0</th>\n",
       "      <td>1</td>\n",
       "      <td>Jakarta Pusat</td>\n",
       "    </tr>\n",
       "    <tr>\n",
       "      <th>185</th>\n",
       "      <td>2</td>\n",
       "      <td>Jakarta Utara A &amp; Kab. Kep. Seribu</td>\n",
       "    </tr>\n",
       "    <tr>\n",
       "      <th>322</th>\n",
       "      <td>3</td>\n",
       "      <td>Jakarta Utara B</td>\n",
       "    </tr>\n",
       "    <tr>\n",
       "      <th>456</th>\n",
       "      <td>4</td>\n",
       "      <td>Jakarta Timur A</td>\n",
       "    </tr>\n",
       "    <tr>\n",
       "      <th>609</th>\n",
       "      <td>5</td>\n",
       "      <td>Jakarta Timur B</td>\n",
       "    </tr>\n",
       "    <tr>\n",
       "      <th>767</th>\n",
       "      <td>6</td>\n",
       "      <td>Jakarta Timur C</td>\n",
       "    </tr>\n",
       "    <tr>\n",
       "      <th>923</th>\n",
       "      <td>7</td>\n",
       "      <td>Jakarta Selatan A</td>\n",
       "    </tr>\n",
       "    <tr>\n",
       "      <th>1074</th>\n",
       "      <td>8</td>\n",
       "      <td>Jakarta Selatan B</td>\n",
       "    </tr>\n",
       "    <tr>\n",
       "      <th>1259</th>\n",
       "      <td>9</td>\n",
       "      <td>Jakarta Barat A</td>\n",
       "    </tr>\n",
       "    <tr>\n",
       "      <th>1438</th>\n",
       "      <td>10</td>\n",
       "      <td>Jakarta Barat B</td>\n",
       "    </tr>\n",
       "  </tbody>\n",
       "</table>\n",
       "</div>"
      ],
      "text/plain": [
       "      dapil_no                          dapil_nama\n",
       "0            1                       Jakarta Pusat\n",
       "185          2  Jakarta Utara A & Kab. Kep. Seribu\n",
       "322          3                     Jakarta Utara B\n",
       "456          4                     Jakarta Timur A\n",
       "609          5                     Jakarta Timur B\n",
       "767          6                     Jakarta Timur C\n",
       "923          7                   Jakarta Selatan A\n",
       "1074         8                   Jakarta Selatan B\n",
       "1259         9                     Jakarta Barat A\n",
       "1438        10                     Jakarta Barat B"
      ]
     },
     "execution_count": 13,
     "metadata": {},
     "output_type": "execute_result"
    }
   ],
   "source": [
    "df.loc[:, [\"dapil_no\", \"dapil_nama\"]].drop_duplicates()"
   ]
  }
 ],
 "metadata": {
  "kernelspec": {
   "display_name": "data-science",
   "language": "python",
   "name": "python3"
  },
  "language_info": {
   "codemirror_mode": {
    "name": "ipython",
    "version": 3
   },
   "file_extension": ".py",
   "mimetype": "text/x-python",
   "name": "python",
   "nbconvert_exporter": "python",
   "pygments_lexer": "ipython3",
   "version": "3.10.13"
  },
  "orig_nbformat": 4
 },
 "nbformat": 4,
 "nbformat_minor": 2
}
